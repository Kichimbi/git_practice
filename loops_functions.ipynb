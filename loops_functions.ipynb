{
  "nbformat": 4,
  "nbformat_minor": 0,
  "metadata": {
    "colab": {
      "provenance": []
    },
    "kernelspec": {
      "name": "python3",
      "display_name": "Python 3"
    },
    "language_info": {
      "name": "python"
    }
  },
  "cells": [
    {
      "cell_type": "code",
      "execution_count": 1,
      "metadata": {
        "id": "Z5SYjMm6nCWk"
      },
      "outputs": [],
      "source": [
        "import random\n"
      ]
    },
    {
      "cell_type": "code",
      "source": [
        "random.seed(3)"
      ],
      "metadata": {
        "id": "LVGVzfy9ubz5"
      },
      "execution_count": 18,
      "outputs": []
    },
    {
      "cell_type": "code",
      "source": [
        "names = []\n",
        "for i in range(50):\n",
        "  names.append('student_'+str(i))\n",
        "\n",
        "print(names)"
      ],
      "metadata": {
        "colab": {
          "base_uri": "https://localhost:8080/"
        },
        "id": "KSHumSoxoiK1",
        "outputId": "da972212-4e7d-4c9a-e6e3-acf59fbe0fe8"
      },
      "execution_count": 19,
      "outputs": [
        {
          "output_type": "stream",
          "name": "stdout",
          "text": [
            "['student_0', 'student_1', 'student_2', 'student_3', 'student_4', 'student_5', 'student_6', 'student_7', 'student_8', 'student_9', 'student_10', 'student_11', 'student_12', 'student_13', 'student_14', 'student_15', 'student_16', 'student_17', 'student_18', 'student_19', 'student_20', 'student_21', 'student_22', 'student_23', 'student_24', 'student_25', 'student_26', 'student_27', 'student_28', 'student_29', 'student_30', 'student_31', 'student_32', 'student_33', 'student_34', 'student_35', 'student_36', 'student_37', 'student_38', 'student_39', 'student_40', 'student_41', 'student_42', 'student_43', 'student_44', 'student_45', 'student_46', 'student_47', 'student_48', 'student_49']\n"
          ]
        }
      ]
    },
    {
      "cell_type": "code",
      "source": [
        "\n",
        "\n",
        "birth_year = []\n",
        "for i in range(50):\n",
        "  birth_year.append(random.randint(1988,2002))\n",
        "\n",
        "print(birth_year)"
      ],
      "metadata": {
        "colab": {
          "base_uri": "https://localhost:8080/"
        },
        "id": "PokjTRstpkCE",
        "outputId": "4b1a73d7-5ad2-4ab2-9ecb-b3e2d53d7d96"
      },
      "execution_count": 20,
      "outputs": [
        {
          "output_type": "stream",
          "name": "stdout",
          "text": [
            "[1991, 1997, 1996, 1990, 1993, 2002, 1997, 1995, 1998, 1997, 1989, 1997, 1988, 2002, 2001, 1995, 1992, 1996, 1991, 1991, 1999, 1995, 1996, 2001, 1996, 1995, 1994, 1998, 2001, 1990, 1991, 1998, 1990, 2001, 2002, 1996, 1994, 1999, 1988, 1998, 2000, 1989, 1990, 2000, 1997, 1988, 1992, 2000, 1988, 2001]\n"
          ]
        }
      ]
    },
    {
      "cell_type": "code",
      "source": [
        "b2 = []\n",
        "\n",
        "for i in range(50):\n",
        "  b2.append(random.randrange(1988,2002))\n",
        "\n",
        "print(b2)"
      ],
      "metadata": {
        "colab": {
          "base_uri": "https://localhost:8080/"
        },
        "id": "kmUmslIFr7ld",
        "outputId": "587191a5-fcff-4eb6-edc5-faf9e66ff052"
      },
      "execution_count": 27,
      "outputs": [
        {
          "output_type": "stream",
          "name": "stdout",
          "text": [
            "[2001, 1997, 1992, 1989, 2000, 1991, 1988, 1988, 2000, 1999, 1996, 1991, 1994, 1997, 1988, 1988, 1995, 1999, 1989, 1990, 1996, 1992, 1991, 1998, 1988, 1996, 1996, 1994, 1988, 1997, 1989, 1993, 1990, 1992, 2001, 1996, 1995, 2000, 2000, 1988, 1993, 1991, 1991, 1989, 1996, 2001, 1989, 1990, 1991, 2000]\n"
          ]
        }
      ]
    },
    {
      "cell_type": "code",
      "source": [
        "student_attitute = []\n",
        "\n",
        "num = 0\n",
        "while num<50:\n",
        "  student_attitute.append(random.choice(['positive','neutral','negative']))\n",
        "  num+=1\n",
        "\n",
        "print(student_attitute)\n",
        "print(len(student_attitute))\n"
      ],
      "metadata": {
        "colab": {
          "base_uri": "https://localhost:8080/"
        },
        "id": "EzpVUyVot_3M",
        "outputId": "d8dc0a99-615f-4d43-85fb-8e9028e93d50"
      },
      "execution_count": 29,
      "outputs": [
        {
          "output_type": "stream",
          "name": "stdout",
          "text": [
            "['neutral', 'positive', 'positive', 'neutral', 'negative', 'negative', 'neutral', 'positive', 'neutral', 'positive', 'neutral', 'negative', 'negative', 'negative', 'neutral', 'positive', 'neutral', 'neutral', 'positive', 'positive', 'positive', 'positive', 'positive', 'positive', 'positive', 'neutral', 'positive', 'negative', 'positive', 'negative', 'negative', 'neutral', 'neutral', 'positive', 'neutral', 'positive', 'neutral', 'neutral', 'negative', 'neutral', 'negative', 'neutral', 'neutral', 'neutral', 'positive', 'neutral', 'neutral', 'positive', 'positive', 'negative']\n",
            "50\n"
          ]
        }
      ]
    },
    {
      "cell_type": "code",
      "source": [
        "student_score = []\n",
        "\n",
        "for i in range(50):\n",
        "  student_score.append(random.randint(0,100))\n",
        "\n",
        "print(student_score)"
      ],
      "metadata": {
        "colab": {
          "base_uri": "https://localhost:8080/"
        },
        "id": "TBf-y5F5ul71",
        "outputId": "8d4096a1-9608-431e-a066-ca9139c690cc"
      },
      "execution_count": 31,
      "outputs": [
        {
          "output_type": "stream",
          "name": "stdout",
          "text": [
            "[0, 91, 92, 48, 10, 72, 22, 5, 47, 58, 77, 83, 100, 69, 48, 81, 5, 79, 55, 6, 47, 80, 63, 97, 89, 40, 53, 88, 53, 58, 2, 31, 27, 68, 34, 88, 75, 9, 54, 28, 54, 16, 3, 41, 47, 71, 33, 15, 59, 88]\n"
          ]
        }
      ]
    },
    {
      "cell_type": "code",
      "source": [],
      "metadata": {
        "id": "MjCZTb5CyQkZ"
      },
      "execution_count": null,
      "outputs": []
    }
  ]
}